{
 "cells": [
  {
   "cell_type": "code",
   "execution_count": null,
   "id": "cff30d11",
   "metadata": {},
   "outputs": [],
   "source": [
    "import pandas as pd\n",
    "import numpy as np"
   ]
  },
  {
   "cell_type": "markdown",
   "id": "029f8b79",
   "metadata": {},
   "source": [
    "change everything to lowercase\n",
    "If ingredient contains 'vodka' change to vodka\n",
    "If ingredient contains 'gin' change to gin\n",
    "Take a closer at other liquors\n",
    "Maybe remove words like fresh?\n",
    "Check ingredient values:\n",
    "     - bitters : change measure to 0.1 \n",
    "     - looks for incorrect recipes... such as Eggnog Supreme\n",
    "     - etc ...\n",
    "\n",
    "pivot table\n",
    "Remove duplicates (martini had 4 versions of the same thing)\n",
    "Drop drinks with 1 ingredient"
   ]
  },
  {
   "cell_type": "code",
   "execution_count": 39,
   "id": "5f351b30",
   "metadata": {},
   "outputs": [
    {
     "data": {
      "text/html": [
       "<div>\n",
       "<style scoped>\n",
       "    .dataframe tbody tr th:only-of-type {\n",
       "        vertical-align: middle;\n",
       "    }\n",
       "\n",
       "    .dataframe tbody tr th {\n",
       "        vertical-align: top;\n",
       "    }\n",
       "\n",
       "    .dataframe thead th {\n",
       "        text-align: right;\n",
       "    }\n",
       "</style>\n",
       "<table border=\"1\" class=\"dataframe\">\n",
       "  <thead>\n",
       "    <tr style=\"text-align: right;\">\n",
       "      <th></th>\n",
       "      <th>name</th>\n",
       "      <th>category</th>\n",
       "      <th>row_id</th>\n",
       "      <th>ingredient_number</th>\n",
       "      <th>ingredient</th>\n",
       "      <th>measure</th>\n",
       "    </tr>\n",
       "  </thead>\n",
       "  <tbody>\n",
       "    <tr>\n",
       "      <th>0</th>\n",
       "      <td>Gauguin</td>\n",
       "      <td>Cocktail Classics</td>\n",
       "      <td>1</td>\n",
       "      <td>1</td>\n",
       "      <td>Light Rum</td>\n",
       "      <td>2 oz</td>\n",
       "    </tr>\n",
       "    <tr>\n",
       "      <th>1</th>\n",
       "      <td>Gauguin</td>\n",
       "      <td>Cocktail Classics</td>\n",
       "      <td>1</td>\n",
       "      <td>2</td>\n",
       "      <td>Passion Fruit Syrup</td>\n",
       "      <td>1 oz</td>\n",
       "    </tr>\n",
       "    <tr>\n",
       "      <th>2</th>\n",
       "      <td>Gauguin</td>\n",
       "      <td>Cocktail Classics</td>\n",
       "      <td>1</td>\n",
       "      <td>3</td>\n",
       "      <td>Lemon Juice</td>\n",
       "      <td>1 oz</td>\n",
       "    </tr>\n",
       "    <tr>\n",
       "      <th>3</th>\n",
       "      <td>Gauguin</td>\n",
       "      <td>Cocktail Classics</td>\n",
       "      <td>1</td>\n",
       "      <td>4</td>\n",
       "      <td>Lime Juice</td>\n",
       "      <td>1 oz</td>\n",
       "    </tr>\n",
       "    <tr>\n",
       "      <th>4</th>\n",
       "      <td>Fort Lauderdale</td>\n",
       "      <td>Cocktail Classics</td>\n",
       "      <td>2</td>\n",
       "      <td>1</td>\n",
       "      <td>Light Rum</td>\n",
       "      <td>1 1/2 oz</td>\n",
       "    </tr>\n",
       "    <tr>\n",
       "      <th>...</th>\n",
       "      <td>...</td>\n",
       "      <td>...</td>\n",
       "      <td>...</td>\n",
       "      <td>...</td>\n",
       "      <td>...</td>\n",
       "      <td>...</td>\n",
       "    </tr>\n",
       "    <tr>\n",
       "      <th>3638</th>\n",
       "      <td>Vow Of Silence</td>\n",
       "      <td>Gin</td>\n",
       "      <td>990</td>\n",
       "      <td>2</td>\n",
       "      <td>Grapefruit Juice</td>\n",
       "      <td>3/4 oz</td>\n",
       "    </tr>\n",
       "    <tr>\n",
       "      <th>3639</th>\n",
       "      <td>Vow Of Silence</td>\n",
       "      <td>Gin</td>\n",
       "      <td>990</td>\n",
       "      <td>3</td>\n",
       "      <td>Fresh Lime Juice</td>\n",
       "      <td>1/2 oz</td>\n",
       "    </tr>\n",
       "    <tr>\n",
       "      <th>3640</th>\n",
       "      <td>Vow Of Silence</td>\n",
       "      <td>Gin</td>\n",
       "      <td>990</td>\n",
       "      <td>4</td>\n",
       "      <td>Yellow Chartreuse</td>\n",
       "      <td>1/2 oz</td>\n",
       "    </tr>\n",
       "    <tr>\n",
       "      <th>3641</th>\n",
       "      <td>Vow Of Silence</td>\n",
       "      <td>Gin</td>\n",
       "      <td>990</td>\n",
       "      <td>5</td>\n",
       "      <td>Amaro</td>\n",
       "      <td>1/4 oz</td>\n",
       "    </tr>\n",
       "    <tr>\n",
       "      <th>3642</th>\n",
       "      <td>Vow Of Silence</td>\n",
       "      <td>Gin</td>\n",
       "      <td>990</td>\n",
       "      <td>6</td>\n",
       "      <td>Simple Syrup</td>\n",
       "      <td>1/4 oz</td>\n",
       "    </tr>\n",
       "  </tbody>\n",
       "</table>\n",
       "<p>3643 rows × 6 columns</p>\n",
       "</div>"
      ],
      "text/plain": [
       "                 name           category  row_id  ingredient_number  \\\n",
       "0             Gauguin  Cocktail Classics       1                  1   \n",
       "1             Gauguin  Cocktail Classics       1                  2   \n",
       "2             Gauguin  Cocktail Classics       1                  3   \n",
       "3             Gauguin  Cocktail Classics       1                  4   \n",
       "4     Fort Lauderdale  Cocktail Classics       2                  1   \n",
       "...               ...                ...     ...                ...   \n",
       "3638   Vow Of Silence                Gin     990                  2   \n",
       "3639   Vow Of Silence                Gin     990                  3   \n",
       "3640   Vow Of Silence                Gin     990                  4   \n",
       "3641   Vow Of Silence                Gin     990                  5   \n",
       "3642   Vow Of Silence                Gin     990                  6   \n",
       "\n",
       "               ingredient   measure  \n",
       "0               Light Rum      2 oz  \n",
       "1     Passion Fruit Syrup      1 oz  \n",
       "2             Lemon Juice      1 oz  \n",
       "3              Lime Juice      1 oz  \n",
       "4               Light Rum  1 1/2 oz  \n",
       "...                   ...       ...  \n",
       "3638     Grapefruit Juice    3/4 oz  \n",
       "3639     Fresh Lime Juice    1/2 oz  \n",
       "3640    Yellow Chartreuse    1/2 oz  \n",
       "3641                Amaro    1/4 oz  \n",
       "3642         Simple Syrup    1/4 oz  \n",
       "\n",
       "[3643 rows x 6 columns]"
      ]
     },
     "execution_count": 39,
     "metadata": {},
     "output_type": "execute_result"
    }
   ],
   "source": [
    "url = \"https://raw.githubusercontent.com/rfordatascience/tidytuesday/master/data/2020/2020-05-26/boston_cocktails.csv\"\n",
    "df = pd.read_csv(url)\n",
    "df"
   ]
  },
  {
   "cell_type": "code",
   "execution_count": 41,
   "id": "4b8919c2",
   "metadata": {},
   "outputs": [
    {
     "data": {
      "text/plain": [
       "(3643, 6)"
      ]
     },
     "execution_count": 41,
     "metadata": {},
     "output_type": "execute_result"
    }
   ],
   "source": [
    "df.shape"
   ]
  },
  {
   "cell_type": "code",
   "execution_count": 16,
   "id": "0da4691b",
   "metadata": {},
   "outputs": [],
   "source": [
    "df = df.loc[df['category'] != 'Non-alcoholic Drinks']"
   ]
  },
  {
   "cell_type": "code",
   "execution_count": 32,
   "id": "9bd4a734",
   "metadata": {},
   "outputs": [
    {
     "data": {
      "text/plain": [
       "1     31\n",
       "6     57\n",
       "2    118\n",
       "5    194\n",
       "3    291\n",
       "4    297\n",
       "dtype: int64"
      ]
     },
     "execution_count": 32,
     "metadata": {},
     "output_type": "execute_result"
    }
   ],
   "source": [
    "# grouped = df.groupby('name')['ingredient_number'].sum().sort_values().head(500)\n",
    "# grouped.value_counts()\n",
    "grouped = df.groupby('name').size()\n",
    "grouped.value_counts().sort_values()"
   ]
  },
  {
   "cell_type": "code",
   "execution_count": 44,
   "id": "4616aac7",
   "metadata": {},
   "outputs": [
    {
     "data": {
      "text/plain": [
       "(3612, 6)"
      ]
     },
     "execution_count": 44,
     "metadata": {},
     "output_type": "execute_result"
    }
   ],
   "source": [
    "df = df.groupby('name').filter(lambda x: len(x) > 1)\n",
    "df.shape"
   ]
  },
  {
   "cell_type": "code",
   "execution_count": 49,
   "id": "b98e9de8",
   "metadata": {},
   "outputs": [
    {
     "data": {
      "text/plain": [
       "array(['Apple Pie', 'Caribbean Champagne', 'Amaretto Stinger',\n",
       "       'Amaretto And Cream', 'Montreal Club Bouncer',\n",
       "       'Martini (Dry) (5-to-1)', \"Mamie's Sister\", 'Lone Tree Cocktail',\n",
       "       'London Buck', 'Leap Frog Highball', 'Hoffman House Cocktail',\n",
       "       'White Russian', 'Greyhound', 'Gin and It', 'Gin Cocktail',\n",
       "       'Flying Dutchman', 'Fifty-Fifty Cocktail', 'Dry Martini (5-to-1)',\n",
       "       'Vodka Stinger', 'Bulldog Highball', 'Billy Taylor',\n",
       "       'Highland Cooler', 'Tempter Cocktail',\n",
       "       'Merry Widow Cocktail No. 2', 'Hennessy Martini', 'Cherry Sling',\n",
       "       'Cherry Fizz', 'Vodka Cooler', 'Carrol Cocktail', \"Bull's Eye\",\n",
       "       'Dixie Julep', \"Buddy's Favorite\", 'Bourbon and Water',\n",
       "       'Sake Martini', 'Godfather', 'Martini', 'Mandarine Sour',\n",
       "       'Twister', 'Harvard Cooler', 'Grenadine Rickey', 'T.N.T. No. 1',\n",
       "       'The Debonair', 'Screwdriver', 'Dry Martini', 'Dillatini Cocktail',\n",
       "       'White Cargo Cocktail', 'French Quarter', 'Cowboy Cocktail',\n",
       "       'Champagne Velvet', 'Caf_ di Amaretto', 'Suntan', 'Sunburn',\n",
       "       'Suissesse Cocktail', 'Strawberry Sunries', 'Silver Stallion Fizz',\n",
       "       'Sherry Milk Punch', 'Prairie Chicken', 'Moscow Mule',\n",
       "       'Mint Collins', 'Mary Garden Cocktail', 'Vodka Martini',\n",
       "       'Sake Martini (Sakini)', \"Widow's Dream\", 'Whiskey Skin',\n",
       "       'Whiskey Milk Punch', 'T.N.T. Cocktail No. 1', 'Headless Horseman',\n",
       "       'Handball Cooler', 'Godmother', 'Green Hornet (Dry)',\n",
       "       'Golden Slipper', \"General Harrison's Eggnog\", 'Frisky Witch',\n",
       "       'Dillatini', 'Zaza Cocktail', 'Vermouth Cassis', 'Bentley',\n",
       "       'Susie Taylor', 'Bulldog Highballl', 'Stormy Colada',\n",
       "       'Spanish Town Cocktail', 'Boston Bullet', 'Black Velvet',\n",
       "       'Antoine Special', 'A. J.', 'Absinthe Drip Cocktail',\n",
       "       'Rum Screwdriver', 'Rum Rickey', 'Scotch Cocktail', 'Rum Martini',\n",
       "       'Rum Cobbler', 'Poker Cocktail', 'Night Cap', 'Bullfrog',\n",
       "       'Bordeaux Cocktail', 'Stinger Cocktail', 'The Blood Orange',\n",
       "       'Black Russian', 'Beer Buster', 'Praire Chicken', 'Tequonic',\n",
       "       'Rob Roy Cocktail', 'T.N.T. Cocktail', \"Widow's Dream Cocktail\",\n",
       "       'Orange Gin Rickey', 'Orange Gin Collins',\n",
       "       'Manhattan Cocktail (dry)', 'Mamie Taylor', 'Lounge Lizard',\n",
       "       'Little Princess Cocktail', 'Golden Slipper Cocktail',\n",
       "       'Carroll Cocktail', 'Paloma (Natural)', 'Mexicola', \"Bulla's Eye\",\n",
       "       'Brave Bull', 'Black Hawk Cocktail', 'White Lady'], dtype=object)"
      ]
     },
     "execution_count": 49,
     "metadata": {},
     "output_type": "execute_result"
    }
   ],
   "source": [
    "ingredient_counts = df.groupby('name').size()\n",
    "exactly_two_ingredients = ingredient_counts == 2\n",
    "df_two_ingredients = df[df['name'].isin(exactly_two_ingredients[exactly_two_ingredients].index)]\n",
    "df_two_ingredients['name'].unique()"
   ]
  },
  {
   "cell_type": "code",
   "execution_count": 51,
   "id": "6f1dc7db",
   "metadata": {},
   "outputs": [
    {
     "data": {
      "text/html": [
       "<div>\n",
       "<style scoped>\n",
       "    .dataframe tbody tr th:only-of-type {\n",
       "        vertical-align: middle;\n",
       "    }\n",
       "\n",
       "    .dataframe tbody tr th {\n",
       "        vertical-align: top;\n",
       "    }\n",
       "\n",
       "    .dataframe thead th {\n",
       "        text-align: right;\n",
       "    }\n",
       "</style>\n",
       "<table border=\"1\" class=\"dataframe\">\n",
       "  <thead>\n",
       "    <tr style=\"text-align: right;\">\n",
       "      <th></th>\n",
       "      <th>name</th>\n",
       "      <th>category</th>\n",
       "      <th>row_id</th>\n",
       "      <th>ingredient_number</th>\n",
       "      <th>ingredient</th>\n",
       "      <th>measure</th>\n",
       "    </tr>\n",
       "  </thead>\n",
       "  <tbody>\n",
       "    <tr>\n",
       "      <th>328</th>\n",
       "      <td>Dry Martini (5-to-1)</td>\n",
       "      <td>Cocktail Classics</td>\n",
       "      <td>98</td>\n",
       "      <td>1</td>\n",
       "      <td>Gin</td>\n",
       "      <td>1 2/3 oz</td>\n",
       "    </tr>\n",
       "    <tr>\n",
       "      <th>329</th>\n",
       "      <td>Dry Martini (5-to-1)</td>\n",
       "      <td>Cocktail Classics</td>\n",
       "      <td>98</td>\n",
       "      <td>2</td>\n",
       "      <td>Dry Vermouth</td>\n",
       "      <td>1/3 oz</td>\n",
       "    </tr>\n",
       "  </tbody>\n",
       "</table>\n",
       "</div>"
      ],
      "text/plain": [
       "                     name           category  row_id  ingredient_number  \\\n",
       "328  Dry Martini (5-to-1)  Cocktail Classics      98                  1   \n",
       "329  Dry Martini (5-to-1)  Cocktail Classics      98                  2   \n",
       "\n",
       "       ingredient   measure  \n",
       "328           Gin  1 2/3 oz  \n",
       "329  Dry Vermouth    1/3 oz  "
      ]
     },
     "execution_count": 51,
     "metadata": {},
     "output_type": "execute_result"
    }
   ],
   "source": [
    "df[df['name'] == 'Dry Martini (5-to-1)']"
   ]
  },
  {
   "cell_type": "code",
   "execution_count": 53,
   "id": "8fff583c",
   "metadata": {},
   "outputs": [
    {
     "data": {
      "text/html": [
       "<div>\n",
       "<style scoped>\n",
       "    .dataframe tbody tr th:only-of-type {\n",
       "        vertical-align: middle;\n",
       "    }\n",
       "\n",
       "    .dataframe tbody tr th {\n",
       "        vertical-align: top;\n",
       "    }\n",
       "\n",
       "    .dataframe thead th {\n",
       "        text-align: right;\n",
       "    }\n",
       "</style>\n",
       "<table border=\"1\" class=\"dataframe\">\n",
       "  <thead>\n",
       "    <tr style=\"text-align: right;\">\n",
       "      <th></th>\n",
       "      <th>name</th>\n",
       "      <th>category</th>\n",
       "      <th>row_id</th>\n",
       "      <th>ingredient_number</th>\n",
       "      <th>ingredient</th>\n",
       "      <th>measure</th>\n",
       "    </tr>\n",
       "  </thead>\n",
       "  <tbody>\n",
       "    <tr>\n",
       "      <th>875</th>\n",
       "      <td>Dry Martini</td>\n",
       "      <td>Cocktail Classics</td>\n",
       "      <td>256</td>\n",
       "      <td>1</td>\n",
       "      <td>Mr. Boston Gin</td>\n",
       "      <td>1 2/3 oz</td>\n",
       "    </tr>\n",
       "    <tr>\n",
       "      <th>876</th>\n",
       "      <td>Dry Martini</td>\n",
       "      <td>Cocktail Classics</td>\n",
       "      <td>256</td>\n",
       "      <td>2</td>\n",
       "      <td>Dry Vermouth</td>\n",
       "      <td>1/3 oz</td>\n",
       "    </tr>\n",
       "  </tbody>\n",
       "</table>\n",
       "</div>"
      ],
      "text/plain": [
       "            name           category  row_id  ingredient_number  \\\n",
       "875  Dry Martini  Cocktail Classics     256                  1   \n",
       "876  Dry Martini  Cocktail Classics     256                  2   \n",
       "\n",
       "         ingredient   measure  \n",
       "875  Mr. Boston Gin  1 2/3 oz  \n",
       "876    Dry Vermouth    1/3 oz  "
      ]
     },
     "execution_count": 53,
     "metadata": {},
     "output_type": "execute_result"
    }
   ],
   "source": [
    "df[df['name'] == 'Dry Martini']"
   ]
  },
  {
   "cell_type": "code",
   "execution_count": 55,
   "id": "2cb2f769",
   "metadata": {},
   "outputs": [
    {
     "data": {
      "text/html": [
       "<div>\n",
       "<style scoped>\n",
       "    .dataframe tbody tr th:only-of-type {\n",
       "        vertical-align: middle;\n",
       "    }\n",
       "\n",
       "    .dataframe tbody tr th {\n",
       "        vertical-align: top;\n",
       "    }\n",
       "\n",
       "    .dataframe thead th {\n",
       "        text-align: right;\n",
       "    }\n",
       "</style>\n",
       "<table border=\"1\" class=\"dataframe\">\n",
       "  <thead>\n",
       "    <tr style=\"text-align: right;\">\n",
       "      <th></th>\n",
       "      <th>name</th>\n",
       "      <th>category</th>\n",
       "      <th>row_id</th>\n",
       "      <th>ingredient_number</th>\n",
       "      <th>ingredient</th>\n",
       "      <th>measure</th>\n",
       "    </tr>\n",
       "  </thead>\n",
       "  <tbody>\n",
       "    <tr>\n",
       "      <th>626</th>\n",
       "      <td>Martini</td>\n",
       "      <td>Cocktail Classics</td>\n",
       "      <td>192</td>\n",
       "      <td>1</td>\n",
       "      <td>Mr. Boston Gin</td>\n",
       "      <td>1 1/2 oz</td>\n",
       "    </tr>\n",
       "    <tr>\n",
       "      <th>627</th>\n",
       "      <td>Martini</td>\n",
       "      <td>Cocktail Classics</td>\n",
       "      <td>192</td>\n",
       "      <td>2</td>\n",
       "      <td>Dry Vermouth</td>\n",
       "      <td>3/4 oz</td>\n",
       "    </tr>\n",
       "  </tbody>\n",
       "</table>\n",
       "</div>"
      ],
      "text/plain": [
       "        name           category  row_id  ingredient_number      ingredient  \\\n",
       "626  Martini  Cocktail Classics     192                  1  Mr. Boston Gin   \n",
       "627  Martini  Cocktail Classics     192                  2    Dry Vermouth   \n",
       "\n",
       "      measure  \n",
       "626  1 1/2 oz  \n",
       "627    3/4 oz  "
      ]
     },
     "execution_count": 55,
     "metadata": {},
     "output_type": "execute_result"
    }
   ],
   "source": [
    "df[df['name'] == 'Martini']"
   ]
  },
  {
   "cell_type": "code",
   "execution_count": 66,
   "id": "4b518388",
   "metadata": {},
   "outputs": [
    {
     "data": {
      "text/plain": [
       "ingredient\n",
       "100-proof Vodka                                 1\n",
       "Orange blossom water                            1\n",
       "Orange and lemon wheels, maraschino cherry      1\n",
       "Orange Flavored Gin                             1\n",
       "Orange Bitters (if desired)                     1\n",
       "                                             ... \n",
       "Light Rum                                     111\n",
       "Vodka                                         112\n",
       "Simple Syrup                                  115\n",
       "Fresh lemon juice                             138\n",
       "Gin                                           176\n",
       "Length: 560, dtype: int64"
      ]
     },
     "execution_count": 66,
     "metadata": {},
     "output_type": "execute_result"
    }
   ],
   "source": [
    "ingredient_counts = df.groupby('ingredient').size().sort_values(ascending=True)\n",
    "ingredient_counts"
   ]
  },
  {
   "cell_type": "code",
   "execution_count": 71,
   "id": "5b777e12",
   "metadata": {},
   "outputs": [
    {
     "data": {
      "text/html": [
       "<div>\n",
       "<style scoped>\n",
       "    .dataframe tbody tr th:only-of-type {\n",
       "        vertical-align: middle;\n",
       "    }\n",
       "\n",
       "    .dataframe tbody tr th {\n",
       "        vertical-align: top;\n",
       "    }\n",
       "\n",
       "    .dataframe thead th {\n",
       "        text-align: right;\n",
       "    }\n",
       "</style>\n",
       "<table border=\"1\" class=\"dataframe\">\n",
       "  <thead>\n",
       "    <tr style=\"text-align: right;\">\n",
       "      <th></th>\n",
       "      <th>name</th>\n",
       "      <th>category</th>\n",
       "      <th>row_id</th>\n",
       "      <th>ingredient_number</th>\n",
       "      <th>ingredient</th>\n",
       "      <th>measure</th>\n",
       "    </tr>\n",
       "  </thead>\n",
       "  <tbody>\n",
       "    <tr>\n",
       "      <th>2129</th>\n",
       "      <td>Eggnog Supreme</td>\n",
       "      <td>Cocktail Classics</td>\n",
       "      <td>584</td>\n",
       "      <td>1</td>\n",
       "      <td>Medium Eggs</td>\n",
       "      <td>1 oz</td>\n",
       "    </tr>\n",
       "    <tr>\n",
       "      <th>2130</th>\n",
       "      <td>Eggnog Supreme</td>\n",
       "      <td>Cocktail Classics</td>\n",
       "      <td>584</td>\n",
       "      <td>2</td>\n",
       "      <td>Sugar</td>\n",
       "      <td>1 oz</td>\n",
       "    </tr>\n",
       "    <tr>\n",
       "      <th>2131</th>\n",
       "      <td>Eggnog Supreme</td>\n",
       "      <td>Cocktail Classics</td>\n",
       "      <td>584</td>\n",
       "      <td>3</td>\n",
       "      <td>Whole milk</td>\n",
       "      <td>1 1/2 oz</td>\n",
       "    </tr>\n",
       "    <tr>\n",
       "      <th>2132</th>\n",
       "      <td>Eggnog Supreme</td>\n",
       "      <td>Cocktail Classics</td>\n",
       "      <td>584</td>\n",
       "      <td>4</td>\n",
       "      <td>Heavy Cream, Whipped</td>\n",
       "      <td>1 oz</td>\n",
       "    </tr>\n",
       "    <tr>\n",
       "      <th>2133</th>\n",
       "      <td>Eggnog Supreme</td>\n",
       "      <td>Cocktail Classics</td>\n",
       "      <td>584</td>\n",
       "      <td>5</td>\n",
       "      <td>Cognac</td>\n",
       "      <td>1 750-ml</td>\n",
       "    </tr>\n",
       "  </tbody>\n",
       "</table>\n",
       "</div>"
      ],
      "text/plain": [
       "                name           category  row_id  ingredient_number  \\\n",
       "2129  Eggnog Supreme  Cocktail Classics     584                  1   \n",
       "2130  Eggnog Supreme  Cocktail Classics     584                  2   \n",
       "2131  Eggnog Supreme  Cocktail Classics     584                  3   \n",
       "2132  Eggnog Supreme  Cocktail Classics     584                  4   \n",
       "2133  Eggnog Supreme  Cocktail Classics     584                  5   \n",
       "\n",
       "                ingredient   measure  \n",
       "2129           Medium Eggs      1 oz  \n",
       "2130                 Sugar      1 oz  \n",
       "2131            Whole milk  1 1/2 oz  \n",
       "2132  Heavy Cream, Whipped      1 oz  \n",
       "2133                Cognac  1 750-ml  "
      ]
     },
     "execution_count": 71,
     "metadata": {},
     "output_type": "execute_result"
    }
   ],
   "source": [
    "df[df['name'] == 'Eggnog Supreme'] # drop this"
   ]
  }
 ],
 "metadata": {
  "kernelspec": {
   "display_name": "Python 3 (ipykernel)",
   "language": "python",
   "name": "python3"
  },
  "language_info": {
   "codemirror_mode": {
    "name": "ipython",
    "version": 3
   },
   "file_extension": ".py",
   "mimetype": "text/x-python",
   "name": "python",
   "nbconvert_exporter": "python",
   "pygments_lexer": "ipython3",
   "version": "3.9.12"
  }
 },
 "nbformat": 4,
 "nbformat_minor": 5
}
